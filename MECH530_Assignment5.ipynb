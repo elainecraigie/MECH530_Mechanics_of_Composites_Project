{
 "metadata": {
  "name": "",
  "signature": "sha256:4c91b22b877082740ca748944ff2685d5a93c4afc14d146c9a359f7b99cc56e9"
 },
 "nbformat": 3,
 "nbformat_minor": 0,
 "worksheets": [
  {
   "cells": [
    {
     "cell_type": "code",
     "collapsed": false,
     "input": [
      "run -i MECH530_main.py"
     ],
     "language": "python",
     "metadata": {},
     "outputs": [
      {
       "output_type": "stream",
       "stream": "stdout",
       "text": [
        "PLYBOOK (READ FROM EXCEL FILE AND SUMMARIZED HERE)\n",
        "\n",
        "The laminate is given by the following plybook where the highest ply number '13' indicates the top layer, while the first ply number '1' indicates the bottom layer. \n",
        "\n",
        "Unique Ply #, Fiber/Matrix, Orientation, Thickness\n",
        "                             (degrees)      (mm)\n",
        "    13           AS4/PEEK         0         0.125\n",
        "    12           AS4/PEEK         0         0.125\n",
        "    11           AS4/PEEK        25         0.125\n",
        "    10           AS4/PEEK       -25         0.125\n",
        "     9           AS4/PEEK         0         0.125\n",
        "     8           AS4/PEEK         0         0.125\n",
        "     7               CORE         0        10.000\n",
        "     6           AS4/PEEK         0         0.125\n",
        "     5           AS4/PEEK         0         0.125\n",
        "     4           AS4/PEEK       -25         0.125\n",
        "     3           AS4/PEEK        25         0.125\n",
        "     2           AS4/PEEK         0         0.125\n",
        "     1           AS4/PEEK         0         0.125\n",
        "\n",
        "PLIES AND THICKNESSES\n",
        "-Total number of plies in the laminate: 13 \n",
        "-Total thickness of laminate is: 11.500 mm \n",
        "-The core thickness is 2 Zc = 10.000 mm \n",
        "-Note that the CORE will be ommitted in the following stress and safety factor tables\n",
        "-Laminate contains 1 Fiber/Matrix combination. The material properties for this combination shall be listed below.\n",
        "\n",
        "------------------------------------------------------------------------------\n",
        "MATERIALS AND MATERIAL PROPERTIES\n",
        "\n",
        "RESIN/MATRIX 1 of 1: For AS4/PEEK, the given material properties are:\n",
        "\n",
        "-Stiffness and Strength: \n",
        "\t\t\n",
        "Ex = 134.0000 GPa, Ey =   8.9000 GPa, Es =   5.1000 GPa and nu_x =   0.2800\n",
        "\t\t\n",
        "Xt = 2130.0000 MPa, Xc = 1100.0000 MPa, Yt =  80.0000f MPa, Yc = 200.0000 MPa and Sc = 160.0000 MPa.\n",
        "\n",
        "-The 'on-axis' matrices are given by the following:\n",
        "S_on = \n",
        "[[      0.0   -0.0021       0.0]\n",
        " [  -0.0021    0.1124       0.0]\n",
        " [      0.0       0.0    0.1961]] [1/GPa]\n",
        "\n",
        "Q_on =\n",
        "[[ 134.7014    2.5050       0.0]\n",
        " [   2.5050    8.9466       0.0]\n",
        " [      0.0       0.0    5.1000]] [GPa]\n",
        "\n",
        "-The linear combinations of the modulus, independent of ply angle are the following:\n",
        "Us_1 =    0.0661 [1/GPa]\n",
        "Us_2 =   -0.0562 [1/GPa]\n",
        "Us_3 =   -0.0099 [1/GPa]\n",
        "Us_4 =   -0.0120 [1/GPa]\n",
        "Us_5 =    0.1563 [1/GPa]\n",
        "\n",
        "-The linear combinations of the modulus, dependent on ply angle are the following:\n",
        "Uq_1 =   57.0443 GPa\n",
        "Uq_2 =   62.8774 GPa\n",
        "Uq_3 =   14.7797 GPa\n",
        "Uq_4 =   17.2848 GPa\n",
        "Uq_5 =   19.8797 GPa\n",
        "\n",
        "-The 'Stiffness' [A] and 'Compliance' [a] matrices are given by the following:\n",
        "A =\n",
        "[[   0.1821    0.0124       0.0]\n",
        " [   0.0124    0.0160       0.0]\n",
        " [      0.0       0.0    0.0163]] [GN/m]\n",
        "\n",
        "a =\n",
        "[[   5.7979   -4.5109      -0.0]\n",
        " [  -4.5109   66.0994      -0.0]\n",
        " [      0.0       0.0   61.2628]] [m/GN]\n",
        "\n",
        "-The 'In-Plane Flexural Modulus' [D] and 'In-Plane Flexural Compliance' [d] matrices are given by the following:\n",
        "D =\n",
        "[[   5.2718    0.3594    0.0130]\n",
        " [   0.3594    0.4622    0.0032]\n",
        " [   0.0130    0.0032    0.4720]] [kNm]\n",
        "\n",
        "d =\n",
        "[[ 200.3143 -155.6995   -4.4529]\n",
        " [-155.6995 2284.5488  -11.2113]\n",
        " [  -4.4529  -11.2113 2118.8941]] [1/MNm]\n",
        "\n",
        "------------------------------------------------------------------------------\n",
        "INPUTS:\n",
        "\n"
       ]
      },
      {
       "name": "stdout",
       "output_type": "stream",
       "stream": "stdout",
       "text": [
        "Would you like to input a resultant applied stress? ON/OFF/NO \n",
        "OFF\n"
       ]
      },
      {
       "output_type": "stream",
       "stream": "stdout",
       "text": [
        "Enter the applied stress resultant vector [N1, N2, N6] [N/m].\n"
       ]
      },
      {
       "name": "stdout",
       "output_type": "stream",
       "stream": "stdout",
       "text": [
        "N1 = 4545.4545\n"
       ]
      },
      {
       "name": "stdout",
       "output_type": "stream",
       "stream": "stdout",
       "text": [
        "N2 = 0\n"
       ]
      },
      {
       "name": "stdout",
       "output_type": "stream",
       "stream": "stdout",
       "text": [
        "N6 = 0\n"
       ]
      },
      {
       "name": "stdout",
       "output_type": "stream",
       "stream": "stdout",
       "text": [
        "Would you like to input a resultant applied moment? ON/OFF/NO \n",
        "OFF\n"
       ]
      },
      {
       "output_type": "stream",
       "stream": "stdout",
       "text": [
        "Enter the applied moment resultant vector [M1, M2, M6] [N].\n"
       ]
      },
      {
       "name": "stdout",
       "output_type": "stream",
       "stream": "stdout",
       "text": [
        "M1 = -1159.0909\n"
       ]
      },
      {
       "name": "stdout",
       "output_type": "stream",
       "stream": "stdout",
       "text": [
        "M2 = 0\n"
       ]
      },
      {
       "name": "stdout",
       "output_type": "stream",
       "stream": "stdout",
       "text": [
        "M6 = 0\n"
       ]
      },
      {
       "output_type": "stream",
       "stream": "stdout",
       "text": [
        "\n",
        "------------------------------------------------------------------------------\n",
        "Curvature K =\n",
        "[[  -0.2322    0.1805    0.0052]] [1/m]\n",
        "\n",
        "OFF-AXIS APPLIED RESULTANTS:\n",
        "\n",
        "(INPUT) Off-axis Applied stress resultant N = \n",
        "[[4545.4545       0.0       0.0]] [N/m]\n",
        "\n",
        "(INPUT) Off-axis Applied moment resultant M = \n",
        "[[-1159.0909       0.0       0.0]] [N]\n",
        "\n",
        "------------------------------------------------------------------------------\n",
        "FAILURE CRITERION AND ANALYSIS\n",
        "\n",
        "MAXIMUM STRESS:\n",
        "-Minimum R = 6.331 and laminate fails in Fiber Compression at TOP of ply 13\n",
        "-The load vectors which cause the failure are:\n",
        "R*N = \n",
        "[[  28.7795       0.0       0.0]] [kN/m]\n",
        "R*M = \n",
        "[[  -7.3388       0.0       0.0]] [kN]\n",
        "\n",
        "QUADRATIC POLYNOMIAL:\n",
        "-Minimum R = 4.664 and laminate fails at TOP of ply 13\n",
        "-The load vectors which cause the failure are:\n",
        "R*N = \n",
        "[[  21.2022       0.0       0.0]] [kN/m]\n",
        "R*M = \n",
        "[[  -5.4066       0.0       0.0]] [kN]\n",
        "\n",
        "HASHIN CRITERION:\n",
        "-Minimum R = 6.331 and laminate fails in Fiber Compression at TOP of ply 13\n",
        "-The load vectors which cause the failure are:\n",
        "R*N = \n",
        "[[  28.7795       0.0       0.0]] [kN/m]\n",
        "R*M = \n",
        "[[  -7.3388       0.0       0.0]] [kN]\n",
        "------------------------------------------------------------------------------\n"
       ]
      }
     ],
     "prompt_number": 1
    },
    {
     "cell_type": "code",
     "collapsed": false,
     "input": [
      "# stress_df"
     ],
     "language": "python",
     "metadata": {},
     "outputs": [],
     "prompt_number": 2
    },
    {
     "cell_type": "code",
     "collapsed": false,
     "input": [
      "# failure_df"
     ],
     "language": "python",
     "metadata": {},
     "outputs": [],
     "prompt_number": 3
    },
    {
     "cell_type": "code",
     "collapsed": false,
     "input": [
      "# print stress_df.to_latex()"
     ],
     "language": "python",
     "metadata": {},
     "outputs": [],
     "prompt_number": 11
    },
    {
     "cell_type": "code",
     "collapsed": false,
     "input": [
      "# print failure_df.to_latex(float_format=lambda x:\"%.3f\" % x)"
     ],
     "language": "python",
     "metadata": {},
     "outputs": [],
     "prompt_number": 12
    }
   ],
   "metadata": {}
  }
 ]
}