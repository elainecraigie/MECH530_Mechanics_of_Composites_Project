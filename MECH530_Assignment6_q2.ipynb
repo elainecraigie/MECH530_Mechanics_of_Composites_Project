{
 "metadata": {
  "name": "",
  "signature": "sha256:66ba748fbd50c17e9c8addefe84d674844972d77d6636ec539f6590652817aa5"
 },
 "nbformat": 3,
 "nbformat_minor": 0,
 "worksheets": [
  {
   "cells": [
    {
     "cell_type": "code",
     "collapsed": false,
     "input": [
      "run -i MECH530_main.py"
     ],
     "language": "python",
     "metadata": {},
     "outputs": [
      {
       "output_type": "stream",
       "stream": "stdout",
       "text": [
        "PLYBOOK (READ FROM EXCEL FILE AND SUMMARIZED HERE)\n",
        "\n",
        "The laminate is given by the following plybook where the highest ply number '8' indicates the top layer, while the first ply number '1' indicates the bottom layer. \n",
        "\n",
        "Unique Ply #, Fiber/Matrix, Orientation, Thickness\n",
        "                             (degrees)      (mm)\n",
        "     8      E-glass/Epoxy        55         0.125\n",
        "     7      E-glass/Epoxy       -25         0.125\n",
        "     6      E-glass/Epoxy       -55         0.125\n",
        "     5      E-glass/Epoxy        25         0.125\n",
        "     4      E-glass/Epoxy        25         0.125\n",
        "     3      E-glass/Epoxy       -55         0.125\n",
        "     2      E-glass/Epoxy       -25         0.125\n",
        "     1      E-glass/Epoxy        55         0.125\n",
        "\n",
        "PLIES AND THICKNESSES\n",
        "-Total number of plies in the laminate: 8 \n",
        "-Total thickness of laminate is: 1.000 mm \n",
        "-There is no core in the laminate (Zc = 0 mm)\n",
        "-Laminate contains 1 Fiber/Matrix combination. The material properties for this combination shall be listed below.\n",
        "\n",
        "------------------------------------------------------------------------------\n",
        "MATERIALS AND MATERIAL PROPERTIES\n",
        "\n",
        "RESIN/MATRIX 1 of 1: For E-glass/Epoxy, the given material properties are:\n",
        "\n",
        "-Stiffness and Strength: \n",
        "\t\t\n",
        "Ex =  38.6000 GPa, Ey =   8.2700 GPa, Es =   4.1400 GPa and nu_x =   0.2600\n",
        "\t\t\n",
        "Xt = 1062.0000 MPa, Xc = 610.0000 MPa, Yt =  31.0000f MPa, Yc = 118.0000 MPa and Sc =  72.0000 MPa.\n",
        "\n",
        "-The 'on-axis' matrices are given by the following:\n",
        "S_on = \n",
        "[[   0.0259   -0.0067       0.0]\n",
        " [  -0.0067    0.1209       0.0]\n",
        " [      0.0       0.0    0.2415]] [1/GPa]\n",
        "\n",
        "Q_on =\n",
        "[[  39.1673    2.1818       0.0]\n",
        " [   2.1818    8.3915       0.0]\n",
        " [      0.0       0.0    4.1400]] [GPa]\n",
        "\n",
        "-The linear combinations of the modulus, independent of ply angle are the following:\n",
        "Us_1 =    0.0836 [1/GPa]\n",
        "Us_2 =   -0.0475 [1/GPa]\n",
        "Us_3 =   -0.0102 [1/GPa]\n",
        "Us_4 =   -0.0169 [1/GPa]\n",
        "Us_5 =    0.2009 [1/GPa]\n",
        "\n",
        "-The linear combinations of the modulus, dependent on ply angle are the following:\n",
        "Uq_1 =   20.4500 GPa\n",
        "Uq_2 =   15.3879 GPa\n",
        "Uq_3 =    3.3294 GPa\n",
        "Uq_4 =    5.5112 GPa\n",
        "Uq_5 =    7.4694 GPa\n",
        "\n",
        "-The 'Stiffness' [A] and 'Compliance' [a] matrices are given by the following:\n",
        "A =\n",
        "[[   0.0212    0.0071       0.0]\n",
        " [   0.0071    0.0166       0.0]\n",
        " [      0.0       0.0    0.0090]] [GN/m]\n",
        "\n",
        "a =\n",
        "[[  55.0092  -23.4870      -0.0]\n",
        " [ -23.4870   70.3723      -0.0]\n",
        " [      0.0       0.0  110.6965]] [m/GN]\n",
        "\n",
        "-The 'In-Plane Flexural Modulus' [D] and 'In-Plane Flexural Compliance' [d] matrices are given by the following:\n",
        "D =\n",
        "[[   0.0015    0.0006   -0.0000]\n",
        " [   0.0006    0.0016    0.0003]\n",
        " [  -0.0000    0.0003    0.0008]] [kNm]\n",
        "\n",
        "d =\n",
        "[[812198.1980 -346646.5637 151552.3488]\n",
        " [-346646.5637 828946.0612 -329499.4659]\n",
        " [151552.3488 -329499.4659 1407375.4402]] [1/MNm]\n",
        "\n",
        "------------------------------------------------------------------------------\n",
        "INPUTS:\n",
        "\n"
       ]
      },
      {
       "name": "stdout",
       "output_type": "stream",
       "stream": "stdout",
       "text": [
        "Would you like to input a resultant applied stress? ON/OFF/NO \n",
        "NO\n"
       ]
      },
      {
       "name": "stdout",
       "output_type": "stream",
       "stream": "stdout",
       "text": [
        "Would you like to input a resultant applied moment? ON/OFF/NO \n",
        "NO\n"
       ]
      },
      {
       "output_type": "stream",
       "stream": "stdout",
       "text": [
        "\n",
        "------------------------------------------------------------------------------\n",
        "------------------------------------------------------------------------------\n"
       ]
      }
     ],
     "prompt_number": 1
    },
    {
     "cell_type": "code",
     "collapsed": false,
     "input": [
      "0.0015/.0016"
     ],
     "language": "python",
     "metadata": {},
     "outputs": [
      {
       "metadata": {},
       "output_type": "pyout",
       "prompt_number": 2,
       "text": [
        "0.9375"
       ]
      }
     ],
     "prompt_number": 2
    }
   ],
   "metadata": {}
  }
 ]
}