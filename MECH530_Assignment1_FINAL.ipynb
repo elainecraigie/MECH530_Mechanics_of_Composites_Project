{
 "metadata": {
  "name": "",
  "signature": "sha256:e432dc2abef8762a84de09838962f3f61ae625332438ff1b786e13af45531d48"
 },
 "nbformat": 3,
 "nbformat_minor": 0,
 "worksheets": [
  {
   "cells": [
    {
     "cell_type": "code",
     "collapsed": false,
     "input": [
      "run mech530_main.py"
     ],
     "language": "python",
     "metadata": {},
     "outputs": [
      {
       "output_type": "stream",
       "stream": "stdout",
       "text": [
        "The laminate is given by the following plybook where the highest ply number '14' indicates the top layer, while the first ply number '1' indicates the bottom layer. \n",
        "\n",
        "Unique Ply #, Fiber/Matrix, Orientation, Thickness\n",
        "                             (degrees)      (mm)\n",
        "    14           AS/H3501        90         0.125\n",
        "    13           AS/H3501        90         0.125\n",
        "    12           AS/H3501        40         0.125\n",
        "    11           AS/H3501       -40         0.125\n",
        "    10           AS/H3501        20         0.125\n",
        "     9           AS/H3501       -20         0.125\n",
        "     8           AS/H3501         0         0.125\n",
        "     7           AS/H3501         0         0.125\n",
        "     6           AS/H3501       -20         0.125\n",
        "     5           AS/H3501        20         0.125\n",
        "     4           AS/H3501       -40         0.125\n",
        "     3           AS/H3501        40         0.125\n",
        "     2           AS/H3501        90         0.125\n",
        "     1           AS/H3501        90         0.125\n",
        "\n",
        "PLIES AND THICKNESSES\n",
        "-Total number of plies in the laminate: 14 \n",
        "-Total thickness of laminate is: 1.750 mm \n",
        "-There is no core in the laminate (Zc = 0 mm)\n",
        "-Laminate contains 1 Fiber/Matrix combination. The material properties for this combination shall be listed below.\n",
        "\n",
        "RESIN/MATRIX 1 of 1: For AS/H3501, the given material properties are:\n",
        "\n",
        "-Stiffness and Strength: \n",
        "\t\n",
        "Ex = 138.0 GPa, Ey = 8.96 GPa, Es = 7.10 GPa and nu_x = 0.30\n",
        "\t\n",
        "Xt = 1447 MPa, Xc = 1447 MPa, Yt = 51.7 MPa, Yc = 206 MPa and Sc = 93 MPa.\n",
        "\n",
        "-The 'on-axis' matrices are given by the following:\n",
        "\n",
        " S_on = \n",
        "[[ 7.246e-03 -2.174e-03        0.0]\n",
        " [-2.174e-03  1.116e-01        0.0]\n",
        " [       0.0        0.0  1.408e-01]] [1/GPa]\n",
        "\n",
        " Q_on =\n",
        "[[ 1.388e+02  2.704e+00        0.0]\n",
        " [ 2.704e+00  9.013e+00        0.0]\n",
        " [       0.0        0.0  7.100e+00]] [GPa]\n"
       ]
      }
     ],
     "prompt_number": 4
    }
   ],
   "metadata": {}
  }
 ]
}